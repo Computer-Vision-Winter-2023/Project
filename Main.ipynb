{
 "cells": [
  {
   "cell_type": "markdown",
   "source": [
    "# AUGMENTED REALITY OBJECT INSERTION"
   ],
   "metadata": {
    "collapsed": false
   }
  },
  {
   "cell_type": "markdown",
   "source": [
    "## SETTING UP THE SYSTEM AND LIBRARIES"
   ],
   "metadata": {
    "collapsed": false
   }
  },
  {
   "cell_type": "code",
   "execution_count": null,
   "outputs": [],
   "source": [
    "!pip install opencv-python"
   ],
   "metadata": {
    "collapsed": false
   }
  },
  {
   "cell_type": "code",
   "execution_count": null,
   "outputs": [],
   "source": [
    "import os\n",
    "import cv2\n",
    "import math\n",
    "import numpy as np\n",
    "from matplotlib import pyplot as plt"
   ],
   "metadata": {
    "collapsed": false
   }
  },
  {
   "cell_type": "code",
   "execution_count": null,
   "outputs": [],
   "source": [
    "from Camera_Calibration import *\n",
    "from Homographies import *\n",
    "from Object_Loader import *"
   ],
   "metadata": {
    "collapsed": false
   }
  },
  {
   "cell_type": "markdown",
   "source": [
    "## CALIBRATING THE CAMERA TO FIND THE INTRINSIC MATRIX"
   ],
   "metadata": {
    "collapsed": false
   }
  },
  {
   "cell_type": "code",
   "execution_count": null,
   "outputs": [],
   "source": [
    "num_corners = (10, 7)\n",
    "\n",
    "file_loc = 'Resources/Calibration/'\n",
    "int_mat = calibrate_camera(num_corners,file_loc)"
   ],
   "metadata": {
    "collapsed": false
   }
  },
  {
   "cell_type": "code",
   "execution_count": null,
   "outputs": [],
   "source": [
    "print(int_mat)"
   ],
   "metadata": {
    "collapsed": false
   }
  },
  {
   "cell_type": "markdown",
   "source": [
    "## COMPUTING HOMOGRAPHS"
   ],
   "metadata": {
    "collapsed": false
   }
  },
  {
   "cell_type": "code",
   "execution_count": null,
   "outputs": [],
   "source": [
    "im1 = 'Resources/Reference/base1.jpg'\n",
    "ref = 'Resources/Reference/surroundings.jpg'\n",
    "\n",
    "homography_matrix = compute_homography(im1,ref)"
   ],
   "metadata": {
    "collapsed": false
   }
  },
  {
   "cell_type": "code",
   "execution_count": null,
   "outputs": [],
   "source": [
    "print(homography_matrix)"
   ],
   "metadata": {
    "collapsed": false
   }
  },
  {
   "cell_type": "markdown",
   "source": [
    "## CHECKING IF CAMERA IS WORKING OR NOT ON LOCAL MACHINE"
   ],
   "metadata": {
    "collapsed": false
   }
  },
  {
   "cell_type": "code",
   "execution_count": null,
   "outputs": [],
   "source": [
    "cap = cv2.VideoCapture(0)"
   ],
   "metadata": {
    "collapsed": false
   }
  },
  {
   "cell_type": "code",
   "execution_count": null,
   "outputs": [],
   "source": [
    "once = False\n",
    "while True:\n",
    "    # read the current frame\n",
    "    ret, frame = cap.read()\n",
    "    if not ret:\n",
    "        if not once:\n",
    "            print(\"Unable to capture video\")\n",
    "            once = True\n",
    "    else:\n",
    "        if not once:\n",
    "            print(\"Capturing video successfully\")\n",
    "            once = True\n",
    "        cv2.imshow('frame', frame)\n",
    "        if cv2.waitKey(1) & 0xFF == ord('q'):\n",
    "            break\n",
    "\n",
    "cap.release()\n",
    "cv2.destroyAllWindows()"
   ],
   "metadata": {
    "collapsed": false
   }
  },
  {
   "cell_type": "markdown",
   "source": [
    "## MAIN CODE"
   ],
   "metadata": {
    "collapsed": false
   }
  },
  {
   "cell_type": "code",
   "execution_count": null,
   "outputs": [],
   "source": [
    "homography = None"
   ],
   "metadata": {
    "collapsed": false
   }
  },
  {
   "cell_type": "code",
   "execution_count": null,
   "outputs": [],
   "source": [
    "# Create a SIFT object\n",
    "sift = cv2.SIFT_create()"
   ],
   "metadata": {
    "collapsed": false
   }
  },
  {
   "cell_type": "code",
   "execution_count": null,
   "outputs": [],
   "source": [
    "FLANN_INDEX_KDTREE = 1\n",
    "index_params = dict(algorithm=FLANN_INDEX_KDTREE, trees=5)\n",
    "search_params = dict(checks=50)\n",
    "flann = cv2.FlannBasedMatcher(index_params, search_params)"
   ],
   "metadata": {
    "collapsed": false
   }
  },
  {
   "cell_type": "code",
   "execution_count": null,
   "outputs": [],
   "source": [
    "base = cv2.imread(os.path.join('Resources/Reference/base1.jpg'), 0)\n",
    "base = cv2.resize(base, (int(base.shape[1]/4), int(base.shape[0]/4)))"
   ],
   "metadata": {
    "collapsed": false
   }
  },
  {
   "cell_type": "code",
   "execution_count": null,
   "outputs": [],
   "source": [
    "kp_base, des_base = sift.detectAndCompute(base, None)"
   ],
   "metadata": {
    "collapsed": false
   }
  },
  {
   "cell_type": "code",
   "execution_count": null,
   "outputs": [],
   "source": [
    "obj = Object('Resources/Models/model2.obj', swap_y_z=True)"
   ],
   "metadata": {
    "collapsed": false
   }
  },
  {
   "cell_type": "code",
   "execution_count": null,
   "outputs": [],
   "source": [
    "def define_points(vert, face_vert, sc_mat , wi, he):\n",
    "    points = np.array([vert[vertex - 1] for vertex in face_vert])\n",
    "    points = np.dot(points, sc_mat)\n",
    "    points = np.array([[p[0] + wi / 2, p[1] + he / 2, p[2]] for p in points])\n",
    "    return points\n",
    "\n",
    "def render(img, object_3d, projection_mat, model):\n",
    "\n",
    "    vertices = object_3d.vertices\n",
    "    scale_matrix = np.eye(3) * 3\n",
    "    height, width = model.shape\n",
    "\n",
    "    for face in object_3d.faces:\n",
    "        face_vertices = face[0]\n",
    "        points = define_points(vertices, face_vertices, scale_matrix, height, width)\n",
    "        img_points = np.int32(cv2.perspectiveTransform(points.reshape(-1, 1, 3), projection_mat))\n",
    "        cv2.fillConvexPoly(img, img_points, (128, 128, 128))\n",
    "\n",
    "    return img"
   ],
   "metadata": {
    "collapsed": false
   }
  },
  {
   "cell_type": "code",
   "execution_count": null,
   "outputs": [],
   "source": [
    "def get_projection_matrix(camera_parameters, homograph):\n",
    "\n",
    "    homograph = homograph * (-1)\n",
    "\n",
    "    transformation = np.dot(np.linalg.inv(camera_parameters), homograph)\n",
    "\n",
    "    # normalise vectors\n",
    "    l = math.sqrt(np.linalg.norm(transformation[:, 0], 2) * np.linalg.norm(transformation[:, 1], 2))\n",
    "    rot_1 = transformation[:, 0] / l\n",
    "    rot_2 = transformation[:, 1] / l\n",
    "    translation = transformation[:, 2] / l\n",
    "\n",
    "    # compute the orthonormal basis\n",
    "    c = rot_1 + rot_2\n",
    "    p = np.cross(rot_1, rot_2)\n",
    "    d = np.cross(c, p)\n",
    "    rot_1 = np.dot(c / np.linalg.norm(c, 2) + d / np.linalg.norm(d, 2), 1 / math.sqrt(2))\n",
    "    rot_2 = np.dot(c / np.linalg.norm(c, 2) - d / np.linalg.norm(d, 2), 1 / math.sqrt(2))\n",
    "    rot_3 = np.cross(rot_1, rot_2)\n",
    "\n",
    "    # compute the 3D projection matrix\n",
    "    proj = np.stack((rot_1, rot_2, rot_3, translation)).T\n",
    "\n",
    "    return np.dot(camera_parameters, proj)"
   ],
   "metadata": {
    "collapsed": false
   }
  },
  {
   "cell_type": "code",
   "execution_count": null,
   "outputs": [],
   "source": [
    "cap = cv2.VideoCapture(0)"
   ],
   "metadata": {
    "collapsed": false
   }
  },
  {
   "cell_type": "code",
   "execution_count": null,
   "outputs": [],
   "source": [
    "MIN_MATCHES = 10"
   ],
   "metadata": {
    "collapsed": false
   }
  },
  {
   "cell_type": "code",
   "execution_count": null,
   "outputs": [],
   "source": [
    "while True:\n",
    "    # read the current frame\n",
    "    ret, frame = cap.read()\n",
    "    if not ret:\n",
    "        print(\"Unable to capture video\")\n",
    "        # find and draw the keypoints of the frame\n",
    "    kp_frame, des_frame = sift.detectAndCompute(frame, None)\n",
    "\n",
    "    # match frame descriptors with model descriptors\n",
    "    matches = flann.knnMatch(des_base, des_frame, k=2)\n",
    "\n",
    "    # store all the good matches as per Lowe's ratio test\n",
    "    good = []\n",
    "    for m, n in matches:\n",
    "        if m.distance < 0.7 * n.distance:\n",
    "            good.append(m)\n",
    "\n",
    "    if len(good) > MIN_MATCHES:\n",
    "\n",
    "        # Compute source points\n",
    "        src_pts = np.float32([kp_base[m.queryIdx].pt for m in good]).reshape(-1, 1, 2)\n",
    "        dst_pts = np.float32([kp_frame[m.trainIdx].pt for m in good]).reshape(-1, 1, 2)\n",
    "\n",
    "        # Compute homography\n",
    "        homography, mask = cv2.findHomography(src_pts, dst_pts, cv2.RANSAC, 5.0)\n",
    "\n",
    "        # Make a rectangle over the base\n",
    "        h, w = base.shape\n",
    "        pts = np.float32([[0, 0], [0, h - 1], [w - 1, h - 1], [w - 1, 0]]).reshape(-1, 1, 2)\n",
    "        dst = cv2.perspectiveTransform(pts, homography)\n",
    "        frame = cv2.polylines(frame, [np.int32(dst)], True, 255, 3, cv2.LINE_AA)\n",
    "\n",
    "        # render 3d model if homography is found\n",
    "        if homography is not None:\n",
    "            projection = get_projection_matrix(int_mat, homography)\n",
    "            frame = render(frame, obj, projection, base)\n",
    "        else:\n",
    "            continue\n",
    "\n",
    "        # show 10 good matches\n",
    "        frame = cv2.drawMatches(base, kp_base, frame, kp_frame, good[0:10], None, flags=2)\n",
    "\n",
    "        # show result\n",
    "        cv2.imshow('frame', frame)\n",
    "        if cv2.waitKey(1) & 0xFF == ord('q'):\n",
    "            break\n",
    "\n",
    "    else:\n",
    "        homography = None\n",
    "        print(f\"Not enough matches found - {len(matches)}/{MIN_MATCHES}\")\n",
    "\n",
    "cap.release()\n",
    "cv2.destroyAllWindows()"
   ],
   "metadata": {
    "collapsed": false
   }
  },
  {
   "cell_type": "code",
   "execution_count": null,
   "outputs": [],
   "source": [],
   "metadata": {
    "collapsed": false
   }
  }
 ],
 "metadata": {
  "kernelspec": {
   "display_name": "Python 3",
   "language": "python",
   "name": "python3"
  },
  "language_info": {
   "codemirror_mode": {
    "name": "ipython",
    "version": 2
   },
   "file_extension": ".py",
   "mimetype": "text/x-python",
   "name": "python",
   "nbconvert_exporter": "python",
   "pygments_lexer": "ipython2",
   "version": "2.7.6"
  }
 },
 "nbformat": 4,
 "nbformat_minor": 0
}
